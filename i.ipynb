{
 "cells": [
  {
   "cell_type": "code",
   "execution_count": 2,
   "id": "459cf54b",
   "metadata": {},
   "outputs": [],
   "source": [
    "from sklearn.datasets import fetch_california_housing  \n",
    "from sklearn.linear_model import LinearRegression  \n",
    "from sklearn.model_selection import train_test_split  \n",
    "from sklearn.metrics import mean_squared_error, r2_score  "
   ]
  },
  {
   "cell_type": "code",
   "execution_count": 3,
   "id": "7e7bf09f",
   "metadata": {},
   "outputs": [],
   "source": [
    "# Load the California housing dataset  \n",
    "california = fetch_california_housing()  \n",
    "X = california.data       # Features  \n",
    "y = california.target     # Target variable (house prices)  \n"
   ]
  },
  {
   "cell_type": "code",
   "execution_count": 4,
   "id": "83336e79",
   "metadata": {},
   "outputs": [],
   "source": [
    "# Split data into train and test sets (80% train, 20% test)  \n",
    "X_train, X_test, y_train, y_test = train_test_split(X, y, test_size=0.2, random_state=42) "
   ]
  },
  {
   "cell_type": "code",
   "execution_count": 5,
   "id": "38dbfb6b",
   "metadata": {},
   "outputs": [],
   "source": [
    "# Initialize and train the linear regression model  \n",
    "model = LinearRegression()  \n",
    "model.fit(X_train, y_train)  \n",
    "\n",
    "# Predict on the test set  \n",
    "y_pred = model.predict(X_test)  \n",
    "\n"
   ]
  },
  {
   "cell_type": "code",
   "execution_count": 6,
   "id": "d218d543",
   "metadata": {},
   "outputs": [],
   "source": [
    "# Calculate evaluation metrics  \n",
    "mse = mean_squared_error(y_test, y_pred)  \n",
    "r2 = r2_score(y_test, y_pred)  "
   ]
  },
  {
   "cell_type": "code",
   "execution_count": 7,
   "id": "dbcb12b3",
   "metadata": {},
   "outputs": [
    {
     "name": "stdout",
     "output_type": "stream",
     "text": [
      "Mean Squared Error: 0.56\n",
      "R^2 Score: 0.58\n",
      "Model coefficients: [ 4.48674910e-01  9.72425752e-03 -1.23323343e-01  7.83144907e-01\n",
      " -2.02962058e-06 -3.52631849e-03 -4.19792487e-01 -4.33708065e-01]\n",
      "Model intercept: -37.023277706063986\n"
     ]
    }
   ],
   "source": [
    "print(f\"Mean Squared Error: {mse:.2f}\")  \n",
    "print(f\"R^2 Score: {r2:.2f}\")  \n",
    "\n",
    "# Optional: print coefficients and intercept  \n",
    "print(\"Model coefficients:\", model.coef_)  \n",
    "print(\"Model intercept:\", model.intercept_)  "
   ]
  },
  {
   "cell_type": "code",
   "execution_count": 8,
   "id": "2a7ac7c5",
   "metadata": {},
   "outputs": [
    {
     "name": "stdout",
     "output_type": "stream",
     "text": [
      "Requirement already satisfied: modelbit in /Users/sushantgaurav/anaconda3/lib/python3.11/site-packages (0.44.0)\n",
      "Requirement already satisfied: pycryptodomex in /Users/sushantgaurav/anaconda3/lib/python3.11/site-packages (from modelbit) (3.22.0)\n",
      "Requirement already satisfied: pandas in /Users/sushantgaurav/anaconda3/lib/python3.11/site-packages (from modelbit) (1.5.3)\n",
      "Requirement already satisfied: tqdm in /Users/sushantgaurav/anaconda3/lib/python3.11/site-packages (from modelbit) (4.67.1)\n",
      "Requirement already satisfied: requests in /Users/sushantgaurav/anaconda3/lib/python3.11/site-packages (from modelbit) (2.32.3)\n",
      "Requirement already satisfied: types-requests in /Users/sushantgaurav/anaconda3/lib/python3.11/site-packages (from modelbit) (2.32.0.20250328)\n",
      "Requirement already satisfied: pyyaml in /Users/sushantgaurav/anaconda3/lib/python3.11/site-packages (from modelbit) (6.0)\n",
      "Requirement already satisfied: types-PyYAML in /Users/sushantgaurav/anaconda3/lib/python3.11/site-packages (from modelbit) (6.0.12.20250402)\n",
      "Requirement already satisfied: jinja2 in /Users/sushantgaurav/anaconda3/lib/python3.11/site-packages (from modelbit) (3.1.2)\n",
      "Requirement already satisfied: zstandard in /Users/sushantgaurav/anaconda3/lib/python3.11/site-packages (from modelbit) (0.19.0)\n",
      "Requirement already satisfied: appdirs in /Users/sushantgaurav/anaconda3/lib/python3.11/site-packages (from modelbit) (1.4.4)\n",
      "Requirement already satisfied: texttable in /Users/sushantgaurav/anaconda3/lib/python3.11/site-packages (from modelbit) (1.7.0)\n",
      "Requirement already satisfied: build in /Users/sushantgaurav/anaconda3/lib/python3.11/site-packages (from modelbit) (1.2.2.post1)\n",
      "Requirement already satisfied: pkginfo in /Users/sushantgaurav/anaconda3/lib/python3.11/site-packages (from modelbit) (1.9.6)\n",
      "Requirement already satisfied: boto3>=1.23.0 in /Users/sushantgaurav/anaconda3/lib/python3.11/site-packages (from modelbit) (1.36.5)\n",
      "Requirement already satisfied: urllib3>=1.21.1 in /Users/sushantgaurav/anaconda3/lib/python3.11/site-packages (from modelbit) (2.4.0)\n",
      "Requirement already satisfied: numpy<2 in /Users/sushantgaurav/anaconda3/lib/python3.11/site-packages (from modelbit) (1.24.4)\n",
      "Requirement already satisfied: importlib-metadata in /Users/sushantgaurav/anaconda3/lib/python3.11/site-packages (from modelbit) (6.0.0)\n",
      "Requirement already satisfied: botocore<1.37.0,>=1.36.5 in /Users/sushantgaurav/anaconda3/lib/python3.11/site-packages (from boto3>=1.23.0->modelbit) (1.36.26)\n",
      "Requirement already satisfied: jmespath<2.0.0,>=0.7.1 in /Users/sushantgaurav/anaconda3/lib/python3.11/site-packages (from boto3>=1.23.0->modelbit) (0.10.0)\n",
      "Requirement already satisfied: s3transfer<0.12.0,>=0.11.0 in /Users/sushantgaurav/anaconda3/lib/python3.11/site-packages (from boto3>=1.23.0->modelbit) (0.11.2)\n",
      "Requirement already satisfied: packaging>=19.1 in /Users/sushantgaurav/anaconda3/lib/python3.11/site-packages (from build->modelbit) (23.2)\n",
      "Requirement already satisfied: pyproject_hooks in /Users/sushantgaurav/anaconda3/lib/python3.11/site-packages (from build->modelbit) (1.2.0)\n",
      "Requirement already satisfied: zipp>=0.5 in /Users/sushantgaurav/anaconda3/lib/python3.11/site-packages (from importlib-metadata->modelbit) (3.11.0)\n",
      "Requirement already satisfied: MarkupSafe>=2.0 in /Users/sushantgaurav/anaconda3/lib/python3.11/site-packages (from jinja2->modelbit) (2.1.1)\n",
      "Requirement already satisfied: python-dateutil>=2.8.1 in /Users/sushantgaurav/anaconda3/lib/python3.11/site-packages (from pandas->modelbit) (2.9.0.post0)\n",
      "Requirement already satisfied: pytz>=2020.1 in /Users/sushantgaurav/anaconda3/lib/python3.11/site-packages (from pandas->modelbit) (2023.3.post1)\n",
      "Requirement already satisfied: charset-normalizer<4,>=2 in /Users/sushantgaurav/anaconda3/lib/python3.11/site-packages (from requests->modelbit) (3.4.1)\n",
      "Requirement already satisfied: idna<4,>=2.5 in /Users/sushantgaurav/anaconda3/lib/python3.11/site-packages (from requests->modelbit) (3.4)\n",
      "Requirement already satisfied: certifi>=2017.4.17 in /Users/sushantgaurav/anaconda3/lib/python3.11/site-packages (from requests->modelbit) (2023.7.22)\n",
      "Requirement already satisfied: six>=1.5 in /Users/sushantgaurav/anaconda3/lib/python3.11/site-packages (from python-dateutil>=2.8.1->pandas->modelbit) (1.16.0)\n",
      "Note: you may need to restart the kernel to use updated packages.\n"
     ]
    }
   ],
   "source": [
    "pip install modelbit"
   ]
  },
  {
   "cell_type": "code",
   "execution_count": null,
   "id": "d56427dc",
   "metadata": {},
   "outputs": [
    {
     "data": {
      "text/html": [
       "\n",
       "<div style=\"margin: 0; padding: 5px; line-height: 1.75; font-size: 14px; vertical-align: baseline; list-style: none; font-family: Roboto, Arial, sans-serif; background: none;\">\n",
       "  <div style=\"margin: 0; padding: 0; line-height: 1.75; font-size: 14px; vertical-align: baseline; list-style: none; font-family: Roboto, Arial, sans-serif; background: none;\">\n",
       "    You're <span style=\"margin: 0; padding: 0; line-height: 1.75; font-size: 14px; vertical-align: baseline; list-style: none; font-family: Roboto, Arial, sans-serif; background: none; color: #15803d; font-weight: bold;\">connected</span> to Modelbit as sushantgaurav80@gmail.com.\n",
       "    Workspace: <span style=\"margin: 0; padding: 0; line-height: 1.75; font-size: 14px; vertical-align: baseline; list-style: none; font-family: monospace; background: none; font-weight: bold; color: #845B99;\">sushantgaurav</span>.\n",
       "    \n",
       "    Branch: <span style=\"margin: 0; padding: 0; line-height: 1.75; font-size: 14px; vertical-align: baseline; list-style: none; font-family: monospace; background: none; font-weight: bold; color: #845B99;\">main</span>\n",
       "\t</div>\n",
       "  \n",
       "\n",
       "\n",
       "\n",
       "\n",
       "\n",
       "\n",
       "</div>"
      ],
      "text/plain": [
       "<IPython.core.display.HTML object>"
      ]
     },
     "metadata": {},
     "output_type": "display_data"
    }
   ],
   "source": [
    "import modelbit\n",
    "mb = modelbit.login()"
   ]
  },
  {
   "cell_type": "code",
   "execution_count": 10,
   "id": "87fb0153",
   "metadata": {},
   "outputs": [
    {
     "name": "stdout",
     "output_type": "stream",
     "text": [
      "{'predicted_price': 4.151943055154582, 'message': 'The predicted median house price is $415194.31'}\n"
     ]
    }
   ],
   "source": [
    "import numpy as np  \n",
    "\n",
    "# Assuming 'model' is your trained LinearRegression model  \n",
    "# and 'california.feature_names' contains the feature names  \n",
    "\n",
    "def predict_house_price(features: dict):  \n",
    "    \"\"\"  \n",
    "    Predict California house price given input features.  \n",
    "    \n",
    "    Args:  \n",
    "      features (dict): dictionary where keys are feature names and values are the feature values.  \n",
    "                       Should contain all features expected by the model.  \n",
    "    \n",
    "    Returns:  \n",
    "      dict: prediction result with price and message  \n",
    "    \"\"\"  \n",
    "    # Ensure feature ordering matches training data   \n",
    "    feature_order = ['MedInc', 'HouseAge', 'AveRooms', 'AveBedrms', 'Population', 'AveOccup', 'Latitude', 'Longitude']  \n",
    "    input_array = np.array([features[feat] for feat in feature_order]).reshape(1, -1)  \n",
    "    \n",
    "    predicted_price = model.predict(input_array)[0]  \n",
    "    \n",
    "    return {  \n",
    "        \"predicted_price\": predicted_price,  \n",
    "        \"message\": f\"The predicted median house price is ${predicted_price * 100000:.2f}\"  # scaled by dataset target scale  \n",
    "    }  \n",
    "\n",
    "# Example usage:  \n",
    "sample_features = {  \n",
    "    'MedInc': 8.3252,  \n",
    "    'HouseAge': 41,  \n",
    "    'AveRooms': 6.984127,  \n",
    "    'AveBedrms': 1.02381,  \n",
    "    'Population': 322,  \n",
    "    'AveOccup': 2.555556,  \n",
    "    'Latitude': 37.88,  \n",
    "    'Longitude': -122.23  \n",
    "}  \n",
    "\n",
    "print(predict_house_price(sample_features))  "
   ]
  },
  {
   "cell_type": "code",
   "execution_count": 11,
   "id": "b1386bcb",
   "metadata": {},
   "outputs": [
    {
     "name": "stdout",
     "output_type": "stream",
     "text": [
      "<listcomp>\n"
     ]
    },
    {
     "data": {
      "text/html": [
       "<div style=\"margin: 0; padding: 5px; line-height: 1.75; font-size: 14px; vertical-align: baseline; list-style: none; font-family: Roboto, Arial, sans-serif; background: none;\">\n",
       "  <div>\n",
       "    <span style=\"margin: 0; padding: 0; line-height: 1.75; font-size: 14px; vertical-align: baseline; list-style: none; font-family: Roboto, Arial, sans-serif; background: none; font-weight: bold; color: #15803d;\">Preparing </span> <span style=\"margin: 0; padding: 3px; line-height: 1.75; font-size: 13px; vertical-align: baseline; list-style: none; font-family: monospace; background: none; font-weight: 400; background-color: rgba(209, 213, 219, 0.2);\">predict_house_price</span>\n",
       "  </div>\n",
       "  \n",
       "\n",
       "  <div style=\"margin: 0; padding: 0; line-height: 1.75; font-size: 14px; vertical-align: baseline; list-style: none; font-family: Roboto, Arial, sans-serif; background: none;\">Uploading dependencies...</div>\n",
       "</div>"
      ],
      "text/plain": [
       "<IPython.core.display.HTML object>"
      ]
     },
     "metadata": {},
     "output_type": "display_data"
    },
    {
     "data": {
      "text/html": [
       "<div style=\"margin: 0; padding: 5px; line-height: 1.75; font-size: 14px; vertical-align: baseline; list-style: none; font-family: Roboto, Arial, sans-serif; background: none;\">\n",
       "  <div style=\"margin: 0; padding: 0; line-height: 1.75; font-size: 14px; vertical-align: baseline; list-style: none; font-family: Roboto, Arial, sans-serif; background: none; font-weight: bold; color: #15803d;\">Success!</div>\n",
       "  \n",
       "    <div style=\"margin: 0; padding: 0; line-height: 1.75; font-size: 14px; vertical-align: baseline; list-style: none; font-family: Roboto, Arial, sans-serif; background: none;\">\n",
       "      Deployment <span style=\"margin: 0; padding: 3px; line-height: 1.75; font-size: 13px; vertical-align: baseline; list-style: none; font-family: monospace; background: none; font-weight: 400; background-color: rgba(209, 213, 219, 0.2);\">predict_house_price</span>\n",
       "      will be ready in  a few minutes.\n",
       "    </div>\n",
       "  \n",
       "\n",
       "  <a href=\"https://us-east-2.aws.modelbit.com/w/sushantgaurav/main/deployments/predict_house_price/apis?first=1\" target=\"_blank\" style=\"display: inline-block; margin-top: 12px;\" >\n",
       "    <div\n",
       "      style=\"display: inline-block; background-color: #845B99; border-radius: 0.375rem; color: white; cursor: pointer; font-size: 14px; font-weight: 700; padding: 8px 16px;\"\n",
       "      onmouseenter=\"this.style.background='#714488'\"\n",
       "      onmouseleave=\"this.style.background='#845B99'\"\n",
       "    >\n",
       "      View in Modelbit\n",
       "    </div>\n",
       "  </a>\n",
       "</div>"
      ],
      "text/plain": [
       "<IPython.core.display.HTML object>"
      ]
     },
     "metadata": {},
     "output_type": "display_data"
    }
   ],
   "source": [
    "mb.deploy(predict_house_price)"
   ]
  },
  {
   "cell_type": "code",
   "execution_count": 17,
   "id": "8525f8a3",
   "metadata": {},
   "outputs": [
    {
     "name": "stdout",
     "output_type": "stream",
     "text": [
      "{'data': {'predicted_price': 130.32198165732652, 'message': 'The predicted median house price is $13032198.17'}}\n"
     ]
    }
   ],
   "source": [
    "import requests  \n",
    "import json  \n",
    "\n",
    "data = {  \n",
    "    \"MedInc\": 9.3252,  \n",
    "    \"HouseAge\": 49,  \n",
    "    \"AveRooms\": 8.984127,  \n",
    "    \"AveBedrms\": 1.02381,  \n",
    "    \"Population\": 122,  \n",
    "    \"AveOccup\": 9.555556,  \n",
    "    \"Latitude\": 47.88,  \n",
    "    \"Longitude\": -422.23  \n",
    "}  \n",
    "\n",
    "response = requests.post(  \n",
    "    \"https://sushantgaurav.us-east-2.aws.modelbit.com/v1/predict_house_price/latest\",  \n",
    "    headers={\"Content-Type\": \"application/json\"},  \n",
    "    data=json.dumps({\"data\": data})  \n",
    ")  \n",
    "\n",
    "print(response.json())  "
   ]
  }
 ],
 "metadata": {
  "kernelspec": {
   "display_name": "base",
   "language": "python",
   "name": "python3"
  },
  "language_info": {
   "codemirror_mode": {
    "name": "ipython",
    "version": 3
   },
   "file_extension": ".py",
   "mimetype": "text/x-python",
   "name": "python",
   "nbconvert_exporter": "python",
   "pygments_lexer": "ipython3",
   "version": "3.11.5"
  }
 },
 "nbformat": 4,
 "nbformat_minor": 5
}
